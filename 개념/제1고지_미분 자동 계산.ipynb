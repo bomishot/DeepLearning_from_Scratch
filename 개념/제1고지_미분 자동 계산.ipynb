{
 "cells": [
  {
   "cell_type": "markdown",
   "id": "4f90069b",
   "metadata": {},
   "source": [
    "# Dezero\n",
    "    Dezero :  < 밑바닥부터 시작하는 딥러닝 3 >의 오리지널 framework\n",
    "* 미니멀리즘 : 이해하기 쉽게 만들었다.\n",
    "* 순수 파이썬 : 파이썬만으로 구현 가능\n",
    "* Define-by-Run 방식 사용 : 딥러닝에서 수행하는 여러 계산을 실행 시점에 '연결'하는 구조 ( 현대적인 프레임워크들의 중요한 공통 기능 )"
   ]
  },
  {
   "cell_type": "markdown",
   "id": "5e052f73",
   "metadata": {},
   "source": [
    "    총 60step으로 나누어, Dezero 만들어보기!"
   ]
  },
  {
   "cell_type": "markdown",
   "id": "3453052b",
   "metadata": {},
   "source": [
    "# Step1_상자로서의 변수"
   ]
  },
  {
   "cell_type": "code",
   "execution_count": 1,
   "id": "2914f5d6",
   "metadata": {},
   "outputs": [],
   "source": [
    "class Variable:\n",
    "    def __init__(self, data):\n",
    "        self.data = data"
   ]
  },
  {
   "cell_type": "code",
   "execution_count": 2,
   "id": "bbf4d860",
   "metadata": {},
   "outputs": [
    {
     "name": "stdout",
     "output_type": "stream",
     "text": [
      "1.0\n"
     ]
    }
   ],
   "source": [
    "import numpy as np\n",
    "\n",
    "data = np.array(1.0)\n",
    "x = Variable(data)\n",
    "print(x.data)"
   ]
  },
  {
   "cell_type": "markdown",
   "id": "1a55fd73",
   "metadata": {},
   "source": [
    "x는 데이터 자체가 아니라, 데이터를 담은 상자이다.  \n",
    "실제 데이터는 Variable의 data에 보관"
   ]
  },
  {
   "cell_type": "code",
   "execution_count": 3,
   "id": "d0fb1330",
   "metadata": {},
   "outputs": [
    {
     "name": "stdout",
     "output_type": "stream",
     "text": [
      "2.0\n"
     ]
    }
   ],
   "source": [
    "x.data = np.array(2.0)\n",
    "print(x.data)"
   ]
  },
  {
   "cell_type": "markdown",
   "id": "28d40242",
   "metadata": {},
   "source": [
    "이처럼, Variable 클래스를 상자로 사용!"
   ]
  },
  {
   "cell_type": "code",
   "execution_count": 4,
   "id": "e3583a90",
   "metadata": {},
   "outputs": [
    {
     "name": "stdout",
     "output_type": "stream",
     "text": [
      "0\n",
      "1\n",
      "2\n"
     ]
    }
   ],
   "source": [
    "# 참고) numpy의 다차원 배열 \n",
    "x = np.array(1)\n",
    "print(x.ndim)\n",
    "\n",
    "x = np.array([1,2])\n",
    "print(x.ndim)\n",
    "\n",
    "x = np.array([[1,2],[3,4]])\n",
    "print(x.ndim)"
   ]
  },
  {
   "cell_type": "markdown",
   "id": "1dc68cd1",
   "metadata": {},
   "source": [
    "# Step2_변수를 낳는 함수\n",
    "    class : Variable과 Function 연계하기\n",
    "* class Function\n",
    "    * 기반 클래스로 두기\n",
    "    * __call__ 메서드 : Variable에서 데이터 찾기, 포장하기\n",
    "    * forward 메서드 : NotImplementedError 예외 발생   \n",
    "        -> 상위 클래스를 설계할 때, 하위 클래스에서 반드시 오버라이드하여 상세하게 구현해야 하는 메소드를 명시하고자 할 경우  \n",
    "        -> forward 호출 시, 이 메서드는 상속하여 구현해야한다는 사실 알려준다.\n",
    "<br>\n",
    "\n",
    "* 구체적인 함수는 Function클래스를 상속한 클래스에서 구현 (class Square 등등..)"
   ]
  },
  {
   "cell_type": "code",
   "execution_count": 5,
   "id": "4e2ee079",
   "metadata": {},
   "outputs": [],
   "source": [
    "class Function:\n",
    "    def __call__(self, input):\n",
    "        x = input.data\n",
    "        y = self.forward(x)\n",
    "        output = Variable(y) # Variable 형태로 되돌린다.\n",
    "        return output\n",
    "    \n",
    "    def forward(self, x):\n",
    "        raise NotImplementedError()\n",
    "        \n",
    "class Square(Function): # 입력값을 제곱해주는 클래스\n",
    "    def forward(self, x):\n",
    "        return x**2"
   ]
  },
  {
   "cell_type": "code",
   "execution_count": 6,
   "id": "52bdb5e9",
   "metadata": {},
   "outputs": [
    {
     "name": "stdout",
     "output_type": "stream",
     "text": [
      "<class '__main__.Variable'>\n",
      "100\n"
     ]
    }
   ],
   "source": [
    "x = Variable(np.array(10))\n",
    "f = Square()\n",
    "y = f(x)\n",
    "\n",
    "print(type(y))\n",
    "print(y.data)"
   ]
  },
  {
   "cell_type": "markdown",
   "id": "08d38bcd",
   "metadata": {},
   "source": [
    "# Step3_함수 연결"
   ]
  },
  {
   "cell_type": "code",
   "execution_count": 7,
   "id": "51e1cc65",
   "metadata": {},
   "outputs": [
    {
     "name": "stdout",
     "output_type": "stream",
     "text": [
      "1.648721270700128\n"
     ]
    }
   ],
   "source": [
    "class Exp(Function):\n",
    "    def forward(self, x):\n",
    "        return np.exp(x)\n",
    "    \n",
    "A = Square()\n",
    "B = Exp()\n",
    "C = Square()\n",
    "\n",
    "x = Variable(np.array(0.5))\n",
    "a = A(x)\n",
    "b = B(a)\n",
    "y = C(b)\n",
    "print(y.data)"
   ]
  },
  {
   "cell_type": "markdown",
   "id": "83c55b45",
   "metadata": {},
   "source": [
    "합성함수로, y = (e^(x^2))^2 한 결과  \n",
    "-> Function 클래스의 __call__메소드의 입출력이 Variable 인스턴스로 통일하게 되어 있어, 여러 함수를 연속하여 적용 가능!"
   ]
  },
  {
   "cell_type": "markdown",
   "id": "a65263ea",
   "metadata": {},
   "source": [
    "# Step4_수치 미분\n",
    "    수치 미분 : 미세한 차이를 이용하여 함수의 변화량을 구하는 방법 ( ex)h=0.001=1e-4와 같은 매우 작은 값 사용)\n",
    "* 컴퓨터는 극한을 취할 수 없으니, h를 극한과 비슷한 값으로 대체\n",
    "-> 오차 발생!\n",
    "* 근사 오차 줄이는 방법\n",
    "    * 중앙차분 : f(x-h), f(x+h) 차이 구하기"
   ]
  },
  {
   "cell_type": "code",
   "execution_count": 8,
   "id": "833356b7",
   "metadata": {},
   "outputs": [
    {
     "name": "stdout",
     "output_type": "stream",
     "text": [
      "4.000000000004\n"
     ]
    }
   ],
   "source": [
    "def numerical_diff(f, x, eps=1e-4):\n",
    "    x0 = Variable(x.data - eps)\n",
    "    x1 = Variable(x.data + eps)\n",
    "    y0 = f(x0)\n",
    "    y1 = f(x1)\n",
    "    return (y1.data - y0.data)/(2*eps)\n",
    "\n",
    "f = Square()\n",
    "x = Variable(np.array(2.0))\n",
    "print(numerical_diff(f,x))"
   ]
  },
  {
   "cell_type": "code",
   "execution_count": 9,
   "id": "f8f7893f",
   "metadata": {},
   "outputs": [
    {
     "name": "stdout",
     "output_type": "stream",
     "text": [
      "3.2974426293330694\n"
     ]
    }
   ],
   "source": [
    "# 합성함수 미분해보자!\n",
    "def f(x):\n",
    "    A = Square()\n",
    "    B = Exp()\n",
    "    C = Square()\n",
    "    return C(B(A(x)))\n",
    "\n",
    "x = Variable(np.array(0.5))\n",
    "print(numerical_diff(f,x))"
   ]
  },
  {
   "cell_type": "markdown",
   "id": "eb458075",
   "metadata": {},
   "source": [
    "# Step5_역전파 이론\n",
    "    역전파 이용시, 미분 효율적으로 계산가능, 결괏값의 오차 더 적다.  \n",
    "미분값을 출력->입력 방향(역방향)으로 전파하면,  \n",
    "* 한 번의 전파만으로\n",
    "* 모든 매개변수에 대한 미분 계산 -> 계산 효율적으로 이루어지기 때문에, 역전파 사용  \n",
    "<br>\n",
    "\n",
    "역전파 시에는,\n",
    "* 순전파 시 사용한 데이터가 필요해 먼저 순전파 하기\n",
    "* 각 함수가 입력 변수의 값을 기억한 후, 역전파 계산!"
   ]
  },
  {
   "cell_type": "markdown",
   "id": "62de9e26",
   "metadata": {},
   "source": [
    "# Step6_수동 역전파"
   ]
  },
  {
   "cell_type": "code",
   "execution_count": 10,
   "id": "078be692",
   "metadata": {},
   "outputs": [],
   "source": [
    "class Variable:\n",
    "    def __init__(self, data):\n",
    "        self.data = data\n",
    "        self.grad = None # grad : 미분값\n",
    "        \n",
    "class Function:\n",
    "    def __call__(self, input):\n",
    "        x = input.data\n",
    "        y = self.forward(x)\n",
    "        output = Variable(y)\n",
    "        self.input = input # 입력변수 기억\n",
    "        return output\n",
    "    \n",
    "    def forward(self, x):\n",
    "        raise NotImplementedError()\n",
    "        \n",
    "    def backward(self, gy): # 미분 계산하는 역전파 메서드 추가\n",
    "        raise NotImplementedError() \n",
    "        \n",
    "class Square(Function):\n",
    "    def forward(self,x):\n",
    "        y = x**2\n",
    "        return y\n",
    "    \n",
    "    def backward(self, gy):\n",
    "        x = self.input.data\n",
    "        gx = 2*x*gy\n",
    "        return gx\n",
    "    \n",
    "class Exp(Function):\n",
    "    def forward(self, x):\n",
    "        y = np.exp(x)\n",
    "        return y\n",
    "    \n",
    "    def backward(self, gy):\n",
    "        x = self.input.data\n",
    "        gx = np.exp(x)*gy\n",
    "        return gx"
   ]
  },
  {
   "cell_type": "code",
   "execution_count": 11,
   "id": "96229600",
   "metadata": {},
   "outputs": [],
   "source": [
    "A = Square()\n",
    "B = Exp()\n",
    "C = Square()\n",
    "\n",
    "x = Variable(np.array(0.5))\n",
    "a = A(x)\n",
    "b = B(a)\n",
    "y = C(b)"
   ]
  },
  {
   "cell_type": "code",
   "execution_count": 12,
   "id": "7c9d9754",
   "metadata": {},
   "outputs": [
    {
     "name": "stdout",
     "output_type": "stream",
     "text": [
      "3.297442541400256\n"
     ]
    }
   ],
   "source": [
    "y.grad = np.array(1.0)\n",
    "b.grad = C.backward(y.grad)\n",
    "a.grad = B.backward(b.grad)\n",
    "x.grad = A.backward(a.grad)\n",
    "print(x.grad)"
   ]
  },
  {
   "cell_type": "markdown",
   "id": "8452d24e",
   "metadata": {},
   "source": [
    "Step4에서 수치 미분으로 구한 결과와, 역전파를 통해 구한 결과가 거의 일치한다!   \n",
    "\n",
    "-> 역전파 제대로 구현했을 가능성이 커진다!"
   ]
  },
  {
   "cell_type": "markdown",
   "id": "a1d3b448",
   "metadata": {},
   "source": [
    "# Step7_역전파 자동화\n",
    "    순전파를 한 번만 해주면, 어떠한 계산이라도 상관없이 역전파가 자동으로 이루어지게 하자!\n",
    "    재귀 방식 이용 - 하나 앞 변수의 bakward method 호출 (self.creator=None일때까지)\n",
    "   \n",
    "* Define-by-Run : 딥러닝에서 수행하는 계산들을 계산 시점에 '연결'하는 방식"
   ]
  },
  {
   "cell_type": "code",
   "execution_count": 20,
   "id": "3d4b4576",
   "metadata": {},
   "outputs": [],
   "source": [
    "import numpy as np\n",
    "\n",
    "class Variable:\n",
    "    def __init__(self, data):\n",
    "        self.data = data\n",
    "        self.grad = None\n",
    "        self.creator = None\n",
    "        \n",
    "    def set_creator(self, func):\n",
    "        self.creator = func\n",
    "        \n",
    "class Function:\n",
    "    def __call__(self, input):\n",
    "        x = input.data\n",
    "        y = self.forward(x)\n",
    "        output = Variable(y)\n",
    "        output.set_creator(self)\n",
    "        self.input = input\n",
    "        self.output = output\n",
    "        return output\n",
    "    \n",
    "    def forward(self, x):\n",
    "        raise NotImplementedError()\n",
    "    \n",
    "    def backward(self, gy):\n",
    "        raise NotImplementedError()\n",
    "        \n",
    "class Square(Function):\n",
    "    def forward(self, x):\n",
    "        y = x**2\n",
    "        return y\n",
    "    \n",
    "    def backward(self, gx):\n",
    "        x = self.input.data\n",
    "        gy = 2*x*gx\n",
    "        return gy\n",
    "    \n",
    "class Exp(Function):\n",
    "    def forward(self, x):\n",
    "        y = np.exp(x)\n",
    "        return y\n",
    "    \n",
    "    def backward(self, gx):\n",
    "        x = self.input.data\n",
    "        gy = np.exp(x)*gx\n",
    "        return gy\n",
    "    \n",
    "A = Square()\n",
    "B = Exp()\n",
    "C = Square()\n",
    "\n",
    "x = Variable(np.array(0.5))\n",
    "\n",
    "a = A(x)\n",
    "b = B(a)\n",
    "y = C(b)\n",
    "\n",
    "assert y.creator == C\n",
    "assert y.creator.input == b\n",
    "assert y.creator.input.creator == B\n",
    "assert y.creator.input.creator.input == a\n",
    "assert y.creator.input.creator.input.creator == A\n",
    "assert y.creator.input.creator.input.creator.input == x"
   ]
  },
  {
   "cell_type": "markdown",
   "id": "00f1a390",
   "metadata": {},
   "source": [
    "역전파 하나하나 도전해보자!!     \n",
    "<br>\n",
    "\n",
    "x ->(A)-> a ->(B)-> b ->(C)-> y    \n",
    "\n",
    "1. 함수를 가져온다 (creator)\n",
    "2. 함수 입력 가져온다 (input)\n",
    "3. 함수 backward method 추가 (grad)"
   ]
  },
  {
   "cell_type": "code",
   "execution_count": 22,
   "id": "4b0f51d8",
   "metadata": {},
   "outputs": [
    {
     "data": {
      "text/plain": [
       "3.297442541400256"
      ]
     },
     "execution_count": 22,
     "metadata": {},
     "output_type": "execute_result"
    }
   ],
   "source": [
    "y.grad = np.array(1.0)\n",
    "C = y.creator\n",
    "b = C.input\n",
    "b.grad = C.backward(y.grad)\n",
    "\n",
    "B = b.creator\n",
    "a = B.input\n",
    "a.grad = B.backward(b.grad)\n",
    "\n",
    "A = a.creator\n",
    "x = A.input\n",
    "x.grad = A.backward(a.grad)\n",
    "\n",
    "x.grad"
   ]
  },
  {
   "cell_type": "markdown",
   "id": "8d8ed701",
   "metadata": {},
   "source": [
    "그렇다면, 이 작업을 하나하나 하지말고, class Variable에 backward method를 추가해 한번에 재귀적으로 역전파 자동화되게 하자!"
   ]
  },
  {
   "cell_type": "code",
   "execution_count": 22,
   "id": "429a9fcc",
   "metadata": {},
   "outputs": [
    {
     "name": "stdout",
     "output_type": "stream",
     "text": [
      "3.297442541400256\n"
     ]
    }
   ],
   "source": [
    "class Variable:\n",
    "    def __init__(self, data):\n",
    "        self.data = data\n",
    "        self.grad = None\n",
    "        self.creator = None\n",
    "        \n",
    "    def set_creator(self, func):\n",
    "        self.creator = func\n",
    "        \n",
    "    def backward(self):\n",
    "        f = self.creator # 1. 함수 가져오기\n",
    "        if f is not None:\n",
    "            x = f.input # 2. 함수 입력 가져오기\n",
    "            x.grad = f.backward(self.grad) # 3. 함수의 backward method 추가\n",
    "            x.backward() # 하나 앞 변수의 backward method 호출 (재귀)\n",
    "            \n",
    "class Function:\n",
    "    def __call__(self, input):\n",
    "        x = input.data\n",
    "        y = self.forward(x)\n",
    "        output = Variable(y)\n",
    "        output.set_creator(self)\n",
    "        self.input = input\n",
    "        self.output = output\n",
    "        return output \n",
    "    \n",
    "    def farward(self):\n",
    "        raise NotImplementedError()\n",
    "        \n",
    "    def backward(self):\n",
    "        raise NotImplementedError()\n",
    "        \n",
    "class Square(Function):\n",
    "    def forward(self, x):\n",
    "        y = x**2\n",
    "        return y\n",
    "    \n",
    "    def backward(self, gx):\n",
    "        x = self.input.data\n",
    "        gy = 2*x*gx\n",
    "        return gy\n",
    "    \n",
    "class Exp(Function):\n",
    "    def forward(self, x):\n",
    "        y = np.exp(x)\n",
    "        return y\n",
    "    \n",
    "    def backward(self, gx):\n",
    "        x = self.input.data\n",
    "        gy = np.exp(x)*gx\n",
    "        return gy\n",
    "\n",
    "    \n",
    "A = Square()\n",
    "B = Exp()\n",
    "C = Square()\n",
    "    \n",
    "x = Variable(np.array(0.5))\n",
    "a = A(x)\n",
    "b = B(a)\n",
    "y = C(b)\n",
    "\n",
    "# 역전파\n",
    "y.grad = np.array(1.0)\n",
    "y.backward()\n",
    "print(x.grad)"
   ]
  },
  {
   "cell_type": "markdown",
   "id": "22347bc2",
   "metadata": {},
   "source": [
    "이와 같이, y의 backward method 호출 시, 역전파 자동으로 실행 완료! \n",
    "<br>\n",
    "\n",
    "자동 미분의 기초 완료!"
   ]
  },
  {
   "cell_type": "markdown",
   "id": "db589757",
   "metadata": {},
   "source": [
    "# Step8_재귀에서 반복문으로\n",
    "    Step7의 Variable 클래스에 backward method 추가하는 대신, 처리 효율을 위해 backward method 구현 방식 변경해보자!\n",
    "    재귀를 사용한 구현(Step7) -> '반복문'을 사용한 구현(Step8)"
   ]
  },
  {
   "cell_type": "code",
   "execution_count": 20,
   "id": "a7793fa9",
   "metadata": {},
   "outputs": [
    {
     "name": "stdout",
     "output_type": "stream",
     "text": [
      "3.297442541400256\n"
     ]
    }
   ],
   "source": [
    "import numpy as np\n",
    "class Variable:\n",
    "    def __init__(self,data):\n",
    "        self.data = data\n",
    "        self.grad = None\n",
    "        self.creator = None\n",
    "        \n",
    "    def set_creator(self, func):\n",
    "        self.creator = func\n",
    "        \n",
    "    def backward(self):\n",
    "        funcs = [self.creator] # creator들로 이루어진 funcs 리스트 선언\n",
    "        \n",
    "        while funcs:\n",
    "            f = funcs.pop() # funcs 리스트에서 처리해야 할 함수 호출 /pop : 마지막원소부터 꺼내줌\n",
    "            x, y = f.input, f.output # 함수의 입력 출력 가져온다\n",
    "            x.grad = f.backward(y.grad) # backward method 호출\n",
    "            \n",
    "            if x.creator is not None:\n",
    "                funcs.append(x.creator) # 하나 앞의 함수를 리스트에 추가\n",
    "\n",
    "class Function:\n",
    "    def __call__(self, input):\n",
    "        x = input.data\n",
    "        y = self.forward(x)\n",
    "        output = Variable(y)\n",
    "        output.set_creator(self)\n",
    "        self.input = input\n",
    "        self.output = output\n",
    "        return output\n",
    "    def forward(self):\n",
    "        raise NotImplementedError()\n",
    "    def backward(self):\n",
    "        raise NotImplementedError()\n",
    "\n",
    "class Square(Function):\n",
    "    def forward(self, x):\n",
    "        y = x**2\n",
    "        return y \n",
    "    def backward(self, gx):\n",
    "        x = self.input.data\n",
    "        gy = 2*x*gx\n",
    "        return gy\n",
    "class Exp(Function):\n",
    "    def forward(self, x):\n",
    "        y = np.exp(x)\n",
    "        return y\n",
    "    def backward(self, gx):\n",
    "        x = self.input.data\n",
    "        gy = np.exp(x)*gx\n",
    "        return gy\n",
    "    \n",
    "A = Square()\n",
    "B = Exp()\n",
    "C = Square()\n",
    "    \n",
    "x = Variable(np.array(0.5))\n",
    "\n",
    "a = A(x)\n",
    "b = B(a)\n",
    "y = C(b)\n",
    "\n",
    "y.grad = np.array(1.0)\n",
    "y.backward()\n",
    "print(x.grad)"
   ]
  },
  {
   "cell_type": "markdown",
   "id": "8079001e",
   "metadata": {},
   "source": [
    "일반적으로, 재귀를 이용한 호출보다 '반복문'을 이용한 호출이 처리 효율이 더 좋다.  "
   ]
  },
  {
   "cell_type": "markdown",
   "id": "e48cbb77",
   "metadata": {},
   "source": [
    "# Step9_함수를 더 편리하게\n",
    "     Dezero 함수에 세 가지 개선 추가!\n",
    "     사용자의 번거로움 줄이기 위해!"
   ]
  },
  {
   "cell_type": "markdown",
   "id": "a1d77115",
   "metadata": {},
   "source": [
    "### 1. 파이썬 함수로 이용하기\n",
    "Square의 클래스를 사용하는 계산을 하려면,  \n",
    "    Square의 클래스의 인스턴스를 생성한 후, 이어서 그 인스턴스를 호출해야함. -> 번거로움  \n",
    "    -> 개선 방법 : Dezero 함수를 '파이썬 함수'로 이용\n"
   ]
  },
  {
   "cell_type": "code",
   "execution_count": 5,
   "id": "e333db22",
   "metadata": {},
   "outputs": [
    {
     "name": "stdout",
     "output_type": "stream",
     "text": [
      "3.297442541400256\n"
     ]
    }
   ],
   "source": [
    "def square(x):\n",
    "    return Square()(x) # 한 줄로 표현!\n",
    "\n",
    "def exp(x):\n",
    "    return Exp()(x)\n",
    "\n",
    "x = Variable(np.array(0.5))\n",
    "y = square(exp(square(x))) # 연속하여 적용시킴\n",
    "y.grad = np.array(1.0)\n",
    "y.backward()\n",
    "print(x.grad)"
   ]
  },
  {
   "cell_type": "markdown",
   "id": "30335bc3",
   "metadata": {},
   "source": [
    "### 2. backward 메서드 간소화\n",
    "    방금 작성한 코드에서 y.grad = np.array(1.0) 부분 생략해보자!"
   ]
  },
  {
   "cell_type": "code",
   "execution_count": 19,
   "id": "e7b447b4",
   "metadata": {
    "scrolled": true
   },
   "outputs": [
    {
     "name": "stdout",
     "output_type": "stream",
     "text": [
      "3.297442541400256\n"
     ]
    }
   ],
   "source": [
    "class Variable:\n",
    "    def __init__(self, data):\n",
    "        self.data = data\n",
    "        self.grad = None\n",
    "        self.creator = None\n",
    "    def set_creator(self, func):\n",
    "        self.creator = func\n",
    "        \n",
    "    def backward(self):\n",
    "        if self.grad is None: # 변수의 grad가 None이면, 자동으로 미분값 생성\n",
    "            self.grad = np.ones_like(self.data) # self.data와 형상, 데이터 타입이 같은 1로 채워진 ndarray 인스턴스 생성됨. \n",
    "        funcs = [self.creator]\n",
    "        while funcs:\n",
    "            f = funcs.pop()\n",
    "            x, y = f.input, f.output\n",
    "            x.grad = f.backward(y.grad)\n",
    "            \n",
    "            if x.creator is not None:\n",
    "                funcs.append(x.creator)\n",
    "\n",
    "x = Variable(np.array(0.5))\n",
    "y = square(exp(square(x)))\n",
    "y.backward()\n",
    "print(x.grad)"
   ]
  },
  {
   "cell_type": "markdown",
   "id": "874ad986",
   "metadata": {},
   "source": [
    "### 3. ndarray만 취급하기\n",
    "Variable의 데이터로 ndarray 인스턴스만 취급하게끔 의도했다.  \n",
    "잘못된 데이터 타입 들어오면 오류 발생시키기."
   ]
  },
  {
   "cell_type": "code",
   "execution_count": 2,
   "id": "31ee8778",
   "metadata": {},
   "outputs": [],
   "source": [
    "class Variable:\n",
    "    def __init__(self,data):\n",
    "        if data is not None:##\n",
    "            if not isinstance(data, np.ndarray):\n",
    "                raise TypeError('{}은 지원하지 않습니다.'.format(type(data)))\n",
    "        self.data = data\n",
    "        self.grad = None\n",
    "        self.creator = None\n",
    "        \n",
    "x = Variable(None)"
   ]
  },
  {
   "cell_type": "code",
   "execution_count": 3,
   "id": "e114a4ca",
   "metadata": {},
   "outputs": [],
   "source": [
    "x = Variable(np.array(1.0))"
   ]
  },
  {
   "cell_type": "code",
   "execution_count": 4,
   "id": "56586a1d",
   "metadata": {
    "scrolled": true
   },
   "outputs": [
    {
     "ename": "TypeError",
     "evalue": "<class 'int'>은 지원하지 않습니다.",
     "output_type": "error",
     "traceback": [
      "\u001b[1;31m---------------------------------------------------------------------------\u001b[0m",
      "\u001b[1;31mTypeError\u001b[0m                                 Traceback (most recent call last)",
      "\u001b[1;32m~\\AppData\\Local\\Temp/ipykernel_20040/3992025843.py\u001b[0m in \u001b[0;36m<module>\u001b[1;34m\u001b[0m\n\u001b[1;32m----> 1\u001b[1;33m \u001b[0mx\u001b[0m \u001b[1;33m=\u001b[0m \u001b[0mVariable\u001b[0m\u001b[1;33m(\u001b[0m\u001b[1;36m0\u001b[0m\u001b[1;33m)\u001b[0m\u001b[1;33m\u001b[0m\u001b[1;33m\u001b[0m\u001b[0m\n\u001b[0m",
      "\u001b[1;32m~\\AppData\\Local\\Temp/ipykernel_20040/411170100.py\u001b[0m in \u001b[0;36m__init__\u001b[1;34m(self, data)\u001b[0m\n\u001b[0;32m      3\u001b[0m         \u001b[1;32mif\u001b[0m \u001b[0mdata\u001b[0m \u001b[1;32mis\u001b[0m \u001b[1;32mnot\u001b[0m \u001b[1;32mNone\u001b[0m\u001b[1;33m:\u001b[0m\u001b[1;33m\u001b[0m\u001b[1;33m\u001b[0m\u001b[0m\n\u001b[0;32m      4\u001b[0m             \u001b[1;32mif\u001b[0m \u001b[1;32mnot\u001b[0m \u001b[0misinstance\u001b[0m\u001b[1;33m(\u001b[0m\u001b[0mdata\u001b[0m\u001b[1;33m,\u001b[0m \u001b[0mnp\u001b[0m\u001b[1;33m.\u001b[0m\u001b[0mndarray\u001b[0m\u001b[1;33m)\u001b[0m\u001b[1;33m:\u001b[0m\u001b[1;33m\u001b[0m\u001b[1;33m\u001b[0m\u001b[0m\n\u001b[1;32m----> 5\u001b[1;33m                 \u001b[1;32mraise\u001b[0m \u001b[0mTypeError\u001b[0m\u001b[1;33m(\u001b[0m\u001b[1;34m'{}은 지원하지 않습니다.'\u001b[0m\u001b[1;33m.\u001b[0m\u001b[0mformat\u001b[0m\u001b[1;33m(\u001b[0m\u001b[0mtype\u001b[0m\u001b[1;33m(\u001b[0m\u001b[0mdata\u001b[0m\u001b[1;33m)\u001b[0m\u001b[1;33m)\u001b[0m\u001b[1;33m)\u001b[0m\u001b[1;33m\u001b[0m\u001b[1;33m\u001b[0m\u001b[0m\n\u001b[0m\u001b[0;32m      6\u001b[0m         \u001b[0mself\u001b[0m\u001b[1;33m.\u001b[0m\u001b[0mdata\u001b[0m \u001b[1;33m=\u001b[0m \u001b[0mdata\u001b[0m\u001b[1;33m\u001b[0m\u001b[1;33m\u001b[0m\u001b[0m\n\u001b[0;32m      7\u001b[0m         \u001b[0mself\u001b[0m\u001b[1;33m.\u001b[0m\u001b[0mgrad\u001b[0m \u001b[1;33m=\u001b[0m \u001b[1;32mNone\u001b[0m\u001b[1;33m\u001b[0m\u001b[1;33m\u001b[0m\u001b[0m\n",
      "\u001b[1;31mTypeError\u001b[0m: <class 'int'>은 지원하지 않습니다."
     ]
    }
   ],
   "source": [
    "x = Variable(0)"
   ]
  },
  {
   "cell_type": "markdown",
   "id": "fab8c853",
   "metadata": {},
   "source": [
    "이와 같이,   \n",
    "ndarray 나 None 이면 OK.   \n",
    "But, 다른 데이터타입 사용 시, 예외 발생!!  \n",
    "<br>\n",
    "\n",
    "넘파이의 독특한 관례 때문에 문제가 발생되는 상황이 있다."
   ]
  },
  {
   "cell_type": "code",
   "execution_count": 5,
   "id": "d7db8aef",
   "metadata": {},
   "outputs": [
    {
     "name": "stdout",
     "output_type": "stream",
     "text": [
      "<class 'numpy.ndarray'> 0\n",
      "<class 'numpy.float64'>\n"
     ]
    }
   ],
   "source": [
    "x = np.array(1.0) # 0차원 ndarray\n",
    "y = x**2 # numpy.float64 즉 scalar type이 되어버린다.\n",
    "print(type(x), x.ndim)\n",
    "print(type(y))"
   ]
  },
  {
   "cell_type": "markdown",
   "id": "62951dac",
   "metadata": {},
   "source": [
    "이런 문제 상황을 없애기 위해 isscaler를 이용한, as_array와 같은 편의 함수 생성!  \n",
    "* np.isscalar(x) : x가 scalar type이면 True, 아니라면 False 반환"
   ]
  },
  {
   "cell_type": "code",
   "execution_count": 12,
   "id": "07fdbc26",
   "metadata": {},
   "outputs": [
    {
     "name": "stdout",
     "output_type": "stream",
     "text": [
      "True\n",
      "True\n",
      "False\n",
      "False\n"
     ]
    }
   ],
   "source": [
    "print(np.isscalar(np.float64(1.0))) \n",
    "print(np.isscalar(2.0))\n",
    "print(np.isscalar(np.array(1.0))) # 0차원 ndarray \n",
    "print(np.isscalar(np.array([0,10]))) # 1차원 ndarray"
   ]
  },
  {
   "cell_type": "code",
   "execution_count": 6,
   "id": "9efd8da9",
   "metadata": {},
   "outputs": [],
   "source": [
    "def as_array(x):\n",
    "    \"\"\"\n",
    "    x가 scalar type 이면, ndarray 인스턴스로 변환\n",
    "    \"\"\"\n",
    "    if np.isscalar(x): \n",
    "        return np.array(x) "
   ]
  },
  {
   "cell_type": "code",
   "execution_count": 15,
   "id": "5f8e7f57",
   "metadata": {},
   "outputs": [],
   "source": [
    "class Function:\n",
    "    def __call__(self, input):\n",
    "        x = input.data\n",
    "        y = self.forward(x)\n",
    "        output = Variable(as_array(y)) # ouput은 항상 ndarray 인스턴스가 되겠네\n",
    "        ouput.set_creator(self)\n",
    "        self.input = input\n",
    "        self.output = output\n",
    "        return output"
   ]
  },
  {
   "cell_type": "markdown",
   "id": "a550ad75",
   "metadata": {},
   "source": [
    "# Step10_테스트\n",
    "        딥러닝 프레임워크의 테스트 방법\n",
    "* 테스트를 해야,  실수(버그) 예방 가능\n",
    "* 테스트 자동화해야, 소프트웨어의 품질 유지 가능\n",
    "        "
   ]
  },
  {
   "cell_type": "code",
   "execution_count": 1,
   "id": "2ba45acf",
   "metadata": {},
   "outputs": [
    {
     "name": "stderr",
     "output_type": "stream",
     "text": [
      "E\n",
      "======================================================================\n",
      "ERROR: C:\\Users\\USER\\AppData\\Roaming\\jupyter\\runtime\\kernel-c8b6f247-8e92-4e9b-83db-0c0fb706578b (unittest.loader._FailedTest)\n",
      "----------------------------------------------------------------------\n",
      "AttributeError: module '__main__' has no attribute 'C:\\Users\\USER\\AppData\\Roaming\\jupyter\\runtime\\kernel-c8b6f247-8e92-4e9b-83db-0c0fb706578b'\n",
      "\n",
      "----------------------------------------------------------------------\n",
      "Ran 1 test in 0.002s\n",
      "\n",
      "FAILED (errors=1)\n"
     ]
    },
    {
     "ename": "SystemExit",
     "evalue": "True",
     "output_type": "error",
     "traceback": [
      "An exception has occurred, use %tb to see the full traceback.\n",
      "\u001b[1;31mSystemExit\u001b[0m\u001b[1;31m:\u001b[0m True\n"
     ]
    },
    {
     "name": "stderr",
     "output_type": "stream",
     "text": [
      "C:\\Users\\USER\\anaconda3\\lib\\site-packages\\IPython\\core\\interactiveshell.py:3465: UserWarning: To exit: use 'exit', 'quit', or Ctrl-D.\n",
      "  warn(\"To exit: use 'exit', 'quit', or Ctrl-D.\", stacklevel=1)\n"
     ]
    }
   ],
   "source": [
    "import unittest\n",
    "import numpy as np\n",
    "\n",
    "\n",
    "class Variable:\n",
    "    def __init__(self, data):\n",
    "        if data is not None:\n",
    "            if not isinstance(data, np.ndarray):\n",
    "                raise TypeError('{} is not supported'.format(type(data)))\n",
    "\n",
    "        self.data = data\n",
    "        self.grad = None\n",
    "        self.creator = None\n",
    "\n",
    "    def set_creator(self, func):\n",
    "        self.creator = func\n",
    "\n",
    "    def backward(self):\n",
    "        if self.grad is None:\n",
    "            self.grad = np.ones_like(self.data)\n",
    "\n",
    "        funcs = [self.creator]\n",
    "        while funcs:\n",
    "            f = funcs.pop()\n",
    "            x, y = f.input, f.output\n",
    "            x.grad = f.backward(y.grad)\n",
    "\n",
    "            if x.creator is not None:\n",
    "                funcs.append(x.creator)\n",
    "\n",
    "\n",
    "def as_array(x):\n",
    "    if np.isscalar(x):\n",
    "        return np.array(x)\n",
    "    return x\n",
    "\n",
    "\n",
    "class Function:\n",
    "    def __call__(self, input):\n",
    "        x = input.data\n",
    "        y = self.forward(x)\n",
    "        output = Variable(as_array(y))\n",
    "        output.set_creator(self)\n",
    "        self.input = input\n",
    "        self.output = output\n",
    "        return output\n",
    "\n",
    "    def forward(self, x):\n",
    "        raise NotImplementedError()\n",
    "\n",
    "    def backward(self, gy):\n",
    "        raise NotImplementedError()\n",
    "\n",
    "\n",
    "class Square(Function):\n",
    "    def forward(self, x):\n",
    "        y = x ** 2\n",
    "        return y\n",
    "\n",
    "    def backward(self, gy):\n",
    "        x = self.input.data\n",
    "        gx = 2 * x * gy\n",
    "        return gx\n",
    "\n",
    "\n",
    "def square(x):\n",
    "    return Square()(x)\n",
    "\n",
    "\n",
    "def numerical_diff(f, x, eps=1e-4):\n",
    "    x0 = Variable(x.data - eps)\n",
    "    x1 = Variable(x.data + eps)\n",
    "    y0 = f(x0)\n",
    "    y1 = f(x1)\n",
    "    return (y1.data - y0.data) / (2 * eps)\n",
    "\n",
    "\n",
    "class SquareTest(unittest.TestCase):\n",
    "    def test_forward(self):\n",
    "        x = Variable(np.array(2.0))\n",
    "        y = square(x)\n",
    "        expected = np.array(4.0)\n",
    "        self.assertEqual(y.data, expected)\n",
    "\n",
    "    def test_backward(self):\n",
    "        x = Variable(np.array(3.0))\n",
    "        y = square(x)\n",
    "        y.backward()\n",
    "        expected = np.array(6.0)\n",
    "        self.assertEqual(x.grad, expected)\n",
    "\n",
    "\n",
    "    def test_gradient_check(self):\n",
    "        \"\"\"\n",
    "        기울기 확인 : 수치미분의 결과값, 역전파 결과값 비교해, 차이가 크면 역전파 구현에 문제가 있다고 판단하는 검증 기법\n",
    "        np.allclose(a,b) : ndarray 인스턴스인 a,b의 값이 얼마나 가까운지 판정\n",
    "        np.allclose(a,b, rtol=1e-05, atol=1e-8) - > abs(a-b)<=(atol+rtol+abs(b))조건 만족시, True 반환\n",
    "        \"\"\"\n",
    "        x = Variable(np.random.rand(1))\n",
    "        y = square(x)\n",
    "        y.backward()\n",
    "        num_grad = numerical_diff(square, x)\n",
    "        flg = np.allclose(x.grad, num_grad)\n",
    "        self.assertTrue(flg)\n",
    "unittest.main()"
   ]
  },
  {
   "cell_type": "markdown",
   "id": "2d09843a",
   "metadata": {},
   "source": [
    "에러뜨면 안되는데 해결해보자.. module main has no attribute"
   ]
  }
 ],
 "metadata": {
  "kernelspec": {
   "display_name": "Python 3 (ipykernel)",
   "language": "python",
   "name": "python3"
  },
  "language_info": {
   "codemirror_mode": {
    "name": "ipython",
    "version": 3
   },
   "file_extension": ".py",
   "mimetype": "text/x-python",
   "name": "python",
   "nbconvert_exporter": "python",
   "pygments_lexer": "ipython3",
   "version": "3.7.11"
  }
 },
 "nbformat": 4,
 "nbformat_minor": 5
}
